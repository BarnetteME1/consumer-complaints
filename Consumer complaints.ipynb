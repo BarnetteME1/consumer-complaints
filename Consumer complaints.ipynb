{
 "cells": [
  {
   "cell_type": "code",
   "execution_count": 1,
   "metadata": {
    "collapsed": false
   },
   "outputs": [],
   "source": [
    "import pandas as pd\n",
    "import numpy as np\n",
    "import matplotlib.pyplot as plt\n",
    "import datetime"
   ]
  },
  {
   "cell_type": "code",
   "execution_count": 2,
   "metadata": {
    "collapsed": true
   },
   "outputs": [],
   "source": [
    "% matplotlib inline"
   ]
  },
  {
   "cell_type": "code",
   "execution_count": 3,
   "metadata": {
    "collapsed": false
   },
   "outputs": [],
   "source": [
    "cnsmr_cmplnts = pd.read_csv(\"complaints_dec_2014.csv\")\n",
    "cnsmr_cmplnts = cnsmr_cmplnts[[\"Complaint ID\", \"Product\", \"Date received\", \"Company\", \"Company response\"]]"
   ]
  },
  {
   "cell_type": "code",
   "execution_count": 4,
   "metadata": {
    "collapsed": false
   },
   "outputs": [
    {
     "data": {
      "text/html": [
       "<div>\n",
       "<table border=\"1\" class=\"dataframe\">\n",
       "  <thead>\n",
       "    <tr style=\"text-align: right;\">\n",
       "      <th></th>\n",
       "      <th>Complaint ID</th>\n",
       "      <th>Product</th>\n",
       "      <th>Date received</th>\n",
       "      <th>Company</th>\n",
       "      <th>Company response</th>\n",
       "    </tr>\n",
       "  </thead>\n",
       "  <tbody>\n",
       "    <tr>\n",
       "      <th>0</th>\n",
       "      <td>1177167</td>\n",
       "      <td>Debt collection</td>\n",
       "      <td>12/31/2014</td>\n",
       "      <td>Ad Astra Recovery Services Inc</td>\n",
       "      <td>Closed with explanation</td>\n",
       "    </tr>\n",
       "    <tr>\n",
       "      <th>1</th>\n",
       "      <td>1177166</td>\n",
       "      <td>Debt collection</td>\n",
       "      <td>12/31/2014</td>\n",
       "      <td>Unique Management Services, Inc</td>\n",
       "      <td>Closed with explanation</td>\n",
       "    </tr>\n",
       "    <tr>\n",
       "      <th>2</th>\n",
       "      <td>1177165</td>\n",
       "      <td>Debt collection</td>\n",
       "      <td>12/31/2014</td>\n",
       "      <td>CL Holdings, LLC</td>\n",
       "      <td>Closed with monetary relief</td>\n",
       "    </tr>\n",
       "    <tr>\n",
       "      <th>3</th>\n",
       "      <td>1177164</td>\n",
       "      <td>Debt collection</td>\n",
       "      <td>12/31/2014</td>\n",
       "      <td>Enhanced Recovery Company, LLC</td>\n",
       "      <td>Closed with non-monetary relief</td>\n",
       "    </tr>\n",
       "    <tr>\n",
       "      <th>4</th>\n",
       "      <td>1177163</td>\n",
       "      <td>Debt collection</td>\n",
       "      <td>12/31/2014</td>\n",
       "      <td>Enhanced Acquisitions, LLC</td>\n",
       "      <td>Closed with explanation</td>\n",
       "    </tr>\n",
       "  </tbody>\n",
       "</table>\n",
       "</div>"
      ],
      "text/plain": [
       "   Complaint ID          Product Date received  \\\n",
       "0       1177167  Debt collection    12/31/2014   \n",
       "1       1177166  Debt collection    12/31/2014   \n",
       "2       1177165  Debt collection    12/31/2014   \n",
       "3       1177164  Debt collection    12/31/2014   \n",
       "4       1177163  Debt collection    12/31/2014   \n",
       "\n",
       "                           Company                 Company response  \n",
       "0   Ad Astra Recovery Services Inc          Closed with explanation  \n",
       "1  Unique Management Services, Inc          Closed with explanation  \n",
       "2                 CL Holdings, LLC      Closed with monetary relief  \n",
       "3   Enhanced Recovery Company, LLC  Closed with non-monetary relief  \n",
       "4       Enhanced Acquisitions, LLC          Closed with explanation  "
      ]
     },
     "execution_count": 4,
     "metadata": {},
     "output_type": "execute_result"
    }
   ],
   "source": [
    "cnsmr_cmplnts.head()"
   ]
  },
  {
   "cell_type": "code",
   "execution_count": 5,
   "metadata": {
    "collapsed": true
   },
   "outputs": [],
   "source": [
    "temp = pd.DatetimeIndex(cnsmr_cmplnts['Date received'])\n",
    "cnsmr_cmplnts[\"weekdays\"] = temp.weekday"
   ]
  },
  {
   "cell_type": "code",
   "execution_count": 6,
   "metadata": {
    "collapsed": false
   },
   "outputs": [],
   "source": [
    "cnsmr_cmplnts[\"Date_received\"] = cnsmr_cmplnts.pop('Date received')\n",
    "cnsmr_cmplnts.index = pd.to_datetime(cnsmr_cmplnts.pop('Date_received'))"
   ]
  },
  {
   "cell_type": "code",
   "execution_count": 8,
   "metadata": {
    "collapsed": false
   },
   "outputs": [
    {
     "data": {
      "text/html": [
       "<div>\n",
       "<table border=\"1\" class=\"dataframe\">\n",
       "  <thead>\n",
       "    <tr style=\"text-align: right;\">\n",
       "      <th></th>\n",
       "      <th>Complaint ID</th>\n",
       "      <th>Product</th>\n",
       "      <th>Company</th>\n",
       "      <th>Company response</th>\n",
       "      <th>weekdays</th>\n",
       "    </tr>\n",
       "    <tr>\n",
       "      <th>Date_received</th>\n",
       "      <th></th>\n",
       "      <th></th>\n",
       "      <th></th>\n",
       "      <th></th>\n",
       "      <th></th>\n",
       "    </tr>\n",
       "  </thead>\n",
       "  <tbody>\n",
       "    <tr>\n",
       "      <th>2014-12-31</th>\n",
       "      <td>1177167</td>\n",
       "      <td>Debt collection</td>\n",
       "      <td>Ad Astra Recovery Services Inc</td>\n",
       "      <td>Closed with explanation</td>\n",
       "      <td>2</td>\n",
       "    </tr>\n",
       "    <tr>\n",
       "      <th>2014-12-31</th>\n",
       "      <td>1177166</td>\n",
       "      <td>Debt collection</td>\n",
       "      <td>Unique Management Services, Inc</td>\n",
       "      <td>Closed with explanation</td>\n",
       "      <td>2</td>\n",
       "    </tr>\n",
       "    <tr>\n",
       "      <th>2014-12-31</th>\n",
       "      <td>1177165</td>\n",
       "      <td>Debt collection</td>\n",
       "      <td>CL Holdings, LLC</td>\n",
       "      <td>Closed with monetary relief</td>\n",
       "      <td>2</td>\n",
       "    </tr>\n",
       "    <tr>\n",
       "      <th>2014-12-31</th>\n",
       "      <td>1177164</td>\n",
       "      <td>Debt collection</td>\n",
       "      <td>Enhanced Recovery Company, LLC</td>\n",
       "      <td>Closed with non-monetary relief</td>\n",
       "      <td>2</td>\n",
       "    </tr>\n",
       "    <tr>\n",
       "      <th>2014-12-31</th>\n",
       "      <td>1177163</td>\n",
       "      <td>Debt collection</td>\n",
       "      <td>Enhanced Acquisitions, LLC</td>\n",
       "      <td>Closed with explanation</td>\n",
       "      <td>2</td>\n",
       "    </tr>\n",
       "  </tbody>\n",
       "</table>\n",
       "</div>"
      ],
      "text/plain": [
       "               Complaint ID          Product                          Company  \\\n",
       "Date_received                                                                   \n",
       "2014-12-31          1177167  Debt collection   Ad Astra Recovery Services Inc   \n",
       "2014-12-31          1177166  Debt collection  Unique Management Services, Inc   \n",
       "2014-12-31          1177165  Debt collection                 CL Holdings, LLC   \n",
       "2014-12-31          1177164  Debt collection   Enhanced Recovery Company, LLC   \n",
       "2014-12-31          1177163  Debt collection       Enhanced Acquisitions, LLC   \n",
       "\n",
       "                              Company response  weekdays  \n",
       "Date_received                                             \n",
       "2014-12-31             Closed with explanation         2  \n",
       "2014-12-31             Closed with explanation         2  \n",
       "2014-12-31         Closed with monetary relief         2  \n",
       "2014-12-31     Closed with non-monetary relief         2  \n",
       "2014-12-31             Closed with explanation         2  "
      ]
     },
     "execution_count": 8,
     "metadata": {},
     "output_type": "execute_result"
    }
   ],
   "source": [
    "cnsmr_cmplnts.head()"
   ]
  },
  {
   "cell_type": "code",
   "execution_count": 9,
   "metadata": {
    "collapsed": false
   },
   "outputs": [],
   "source": [
    "products = cnsmr_cmplnts.groupby(\"Product\").count().sort(\"Complaint ID\", ascending = False)\n",
    "products = products.T"
   ]
  },
  {
   "cell_type": "code",
   "execution_count": 10,
   "metadata": {
    "collapsed": false
   },
   "outputs": [
    {
     "data": {
      "text/html": [
       "<div>\n",
       "<table border=\"1\" class=\"dataframe\">\n",
       "  <thead>\n",
       "    <tr style=\"text-align: right;\">\n",
       "      <th>Product</th>\n",
       "      <th>Mortgage</th>\n",
       "      <th>Debt collection</th>\n",
       "      <th>Credit reporting</th>\n",
       "      <th>Bank account or service</th>\n",
       "      <th>Credit card</th>\n",
       "      <th>Consumer loan</th>\n",
       "      <th>Student loan</th>\n",
       "      <th>Payday loan</th>\n",
       "      <th>Money transfers</th>\n",
       "      <th>Prepaid card</th>\n",
       "      <th>Other financial service</th>\n",
       "    </tr>\n",
       "  </thead>\n",
       "  <tbody>\n",
       "    <tr>\n",
       "      <th>Complaint ID</th>\n",
       "      <td>3002</td>\n",
       "      <td>2942</td>\n",
       "      <td>2113</td>\n",
       "      <td>1136</td>\n",
       "      <td>1100</td>\n",
       "      <td>578</td>\n",
       "      <td>340</td>\n",
       "      <td>141</td>\n",
       "      <td>107</td>\n",
       "      <td>70</td>\n",
       "      <td>14</td>\n",
       "    </tr>\n",
       "    <tr>\n",
       "      <th>Company</th>\n",
       "      <td>3002</td>\n",
       "      <td>2942</td>\n",
       "      <td>2113</td>\n",
       "      <td>1136</td>\n",
       "      <td>1100</td>\n",
       "      <td>578</td>\n",
       "      <td>340</td>\n",
       "      <td>141</td>\n",
       "      <td>107</td>\n",
       "      <td>70</td>\n",
       "      <td>14</td>\n",
       "    </tr>\n",
       "    <tr>\n",
       "      <th>Company response</th>\n",
       "      <td>3002</td>\n",
       "      <td>2942</td>\n",
       "      <td>2113</td>\n",
       "      <td>1136</td>\n",
       "      <td>1100</td>\n",
       "      <td>578</td>\n",
       "      <td>340</td>\n",
       "      <td>141</td>\n",
       "      <td>107</td>\n",
       "      <td>70</td>\n",
       "      <td>14</td>\n",
       "    </tr>\n",
       "    <tr>\n",
       "      <th>weekdays</th>\n",
       "      <td>3002</td>\n",
       "      <td>2942</td>\n",
       "      <td>2113</td>\n",
       "      <td>1136</td>\n",
       "      <td>1100</td>\n",
       "      <td>578</td>\n",
       "      <td>340</td>\n",
       "      <td>141</td>\n",
       "      <td>107</td>\n",
       "      <td>70</td>\n",
       "      <td>14</td>\n",
       "    </tr>\n",
       "  </tbody>\n",
       "</table>\n",
       "</div>"
      ],
      "text/plain": [
       "Product           Mortgage  Debt collection  Credit reporting  \\\n",
       "Complaint ID          3002             2942              2113   \n",
       "Company               3002             2942              2113   \n",
       "Company response      3002             2942              2113   \n",
       "weekdays              3002             2942              2113   \n",
       "\n",
       "Product           Bank account or service  Credit card  Consumer loan  \\\n",
       "Complaint ID                         1136         1100            578   \n",
       "Company                              1136         1100            578   \n",
       "Company response                     1136         1100            578   \n",
       "weekdays                             1136         1100            578   \n",
       "\n",
       "Product           Student loan  Payday loan  Money transfers  Prepaid card  \\\n",
       "Complaint ID               340          141              107            70   \n",
       "Company                    340          141              107            70   \n",
       "Company response           340          141              107            70   \n",
       "weekdays                   340          141              107            70   \n",
       "\n",
       "Product           Other financial service  \n",
       "Complaint ID                           14  \n",
       "Company                                14  \n",
       "Company response                       14  \n",
       "weekdays                               14  "
      ]
     },
     "execution_count": 10,
     "metadata": {},
     "output_type": "execute_result"
    }
   ],
   "source": [
    "products"
   ]
  },
  {
   "cell_type": "code",
   "execution_count": 11,
   "metadata": {
    "collapsed": false
   },
   "outputs": [],
   "source": [
    "companies = cnsmr_cmplnts.groupby(\"Company\").count().sort(\"Complaint ID\", ascending = False).head(10)\n",
    "companies = companies.T"
   ]
  },
  {
   "cell_type": "code",
   "execution_count": 12,
   "metadata": {
    "collapsed": false
   },
   "outputs": [
    {
     "data": {
      "text/html": [
       "<div>\n",
       "<table border=\"1\" class=\"dataframe\">\n",
       "  <thead>\n",
       "    <tr style=\"text-align: right;\">\n",
       "      <th>Company</th>\n",
       "      <th>Bank of America</th>\n",
       "      <th>Equifax</th>\n",
       "      <th>Experian</th>\n",
       "      <th>TransUnion</th>\n",
       "      <th>Wells Fargo</th>\n",
       "      <th>JPMorgan Chase</th>\n",
       "      <th>Ocwen</th>\n",
       "      <th>Citibank</th>\n",
       "      <th>Nationstar Mortgage</th>\n",
       "      <th>Capital One</th>\n",
       "    </tr>\n",
       "  </thead>\n",
       "  <tbody>\n",
       "    <tr>\n",
       "      <th>Complaint ID</th>\n",
       "      <td>766</td>\n",
       "      <td>737</td>\n",
       "      <td>675</td>\n",
       "      <td>604</td>\n",
       "      <td>598</td>\n",
       "      <td>545</td>\n",
       "      <td>408</td>\n",
       "      <td>403</td>\n",
       "      <td>357</td>\n",
       "      <td>252</td>\n",
       "    </tr>\n",
       "    <tr>\n",
       "      <th>Product</th>\n",
       "      <td>766</td>\n",
       "      <td>737</td>\n",
       "      <td>675</td>\n",
       "      <td>604</td>\n",
       "      <td>598</td>\n",
       "      <td>545</td>\n",
       "      <td>408</td>\n",
       "      <td>403</td>\n",
       "      <td>357</td>\n",
       "      <td>252</td>\n",
       "    </tr>\n",
       "    <tr>\n",
       "      <th>Company response</th>\n",
       "      <td>766</td>\n",
       "      <td>737</td>\n",
       "      <td>675</td>\n",
       "      <td>604</td>\n",
       "      <td>598</td>\n",
       "      <td>545</td>\n",
       "      <td>408</td>\n",
       "      <td>403</td>\n",
       "      <td>357</td>\n",
       "      <td>252</td>\n",
       "    </tr>\n",
       "    <tr>\n",
       "      <th>weekdays</th>\n",
       "      <td>766</td>\n",
       "      <td>737</td>\n",
       "      <td>675</td>\n",
       "      <td>604</td>\n",
       "      <td>598</td>\n",
       "      <td>545</td>\n",
       "      <td>408</td>\n",
       "      <td>403</td>\n",
       "      <td>357</td>\n",
       "      <td>252</td>\n",
       "    </tr>\n",
       "  </tbody>\n",
       "</table>\n",
       "</div>"
      ],
      "text/plain": [
       "Company           Bank of America  Equifax  Experian  TransUnion  Wells Fargo  \\\n",
       "Complaint ID                  766      737       675         604          598   \n",
       "Product                       766      737       675         604          598   \n",
       "Company response              766      737       675         604          598   \n",
       "weekdays                      766      737       675         604          598   \n",
       "\n",
       "Company           JPMorgan Chase  Ocwen  Citibank  Nationstar Mortgage  \\\n",
       "Complaint ID                 545    408       403                  357   \n",
       "Product                      545    408       403                  357   \n",
       "Company response             545    408       403                  357   \n",
       "weekdays                     545    408       403                  357   \n",
       "\n",
       "Company           Capital One  \n",
       "Complaint ID              252  \n",
       "Product                   252  \n",
       "Company response          252  \n",
       "weekdays                  252  "
      ]
     },
     "execution_count": 12,
     "metadata": {},
     "output_type": "execute_result"
    }
   ],
   "source": [
    "companies"
   ]
  },
  {
   "cell_type": "code",
   "execution_count": 13,
   "metadata": {
    "collapsed": false
   },
   "outputs": [],
   "source": [
    "company_responses = cnsmr_cmplnts.groupby(\"Company response\").count().sort(\"Complaint ID\", ascending = False)\n",
    "company_responses = company_responses.T"
   ]
  },
  {
   "cell_type": "code",
   "execution_count": 14,
   "metadata": {
    "collapsed": false
   },
   "outputs": [
    {
     "data": {
      "text/html": [
       "<div>\n",
       "<table border=\"1\" class=\"dataframe\">\n",
       "  <thead>\n",
       "    <tr style=\"text-align: right;\">\n",
       "      <th>Company response</th>\n",
       "      <th>Closed with explanation</th>\n",
       "      <th>Closed with non-monetary relief</th>\n",
       "      <th>In progress</th>\n",
       "      <th>Closed with monetary relief</th>\n",
       "      <th>Closed</th>\n",
       "      <th>Untimely response</th>\n",
       "    </tr>\n",
       "  </thead>\n",
       "  <tbody>\n",
       "    <tr>\n",
       "      <th>Complaint ID</th>\n",
       "      <td>8185</td>\n",
       "      <td>1253</td>\n",
       "      <td>1056</td>\n",
       "      <td>643</td>\n",
       "      <td>239</td>\n",
       "      <td>167</td>\n",
       "    </tr>\n",
       "    <tr>\n",
       "      <th>Product</th>\n",
       "      <td>8185</td>\n",
       "      <td>1253</td>\n",
       "      <td>1056</td>\n",
       "      <td>643</td>\n",
       "      <td>239</td>\n",
       "      <td>167</td>\n",
       "    </tr>\n",
       "    <tr>\n",
       "      <th>Company</th>\n",
       "      <td>8185</td>\n",
       "      <td>1253</td>\n",
       "      <td>1056</td>\n",
       "      <td>643</td>\n",
       "      <td>239</td>\n",
       "      <td>167</td>\n",
       "    </tr>\n",
       "    <tr>\n",
       "      <th>weekdays</th>\n",
       "      <td>8185</td>\n",
       "      <td>1253</td>\n",
       "      <td>1056</td>\n",
       "      <td>643</td>\n",
       "      <td>239</td>\n",
       "      <td>167</td>\n",
       "    </tr>\n",
       "  </tbody>\n",
       "</table>\n",
       "</div>"
      ],
      "text/plain": [
       "Company response  Closed with explanation  Closed with non-monetary relief  \\\n",
       "Complaint ID                         8185                             1253   \n",
       "Product                              8185                             1253   \n",
       "Company                              8185                             1253   \n",
       "weekdays                             8185                             1253   \n",
       "\n",
       "Company response  In progress  Closed with monetary relief  Closed  \\\n",
       "Complaint ID             1056                          643     239   \n",
       "Product                  1056                          643     239   \n",
       "Company                  1056                          643     239   \n",
       "weekdays                 1056                          643     239   \n",
       "\n",
       "Company response  Untimely response  \n",
       "Complaint ID                    167  \n",
       "Product                         167  \n",
       "Company                         167  \n",
       "weekdays                        167  "
      ]
     },
     "execution_count": 14,
     "metadata": {},
     "output_type": "execute_result"
    }
   ],
   "source": [
    "company_responses"
   ]
  },
  {
   "cell_type": "code",
   "execution_count": 15,
   "metadata": {
    "collapsed": false
   },
   "outputs": [
    {
     "data": {
      "image/png": "[encoded data removed]",
      "text/plain": [
       "<matplotlib.figure.Figure at 0x10caf65c0>"
      ]
     },
     "metadata": {},
     "output_type": "display_data"
    }
   ],
   "source": [
    "plt.figure();\n",
    "\n",
    "products.ix[0].plot(kind='bar', sort_columns=True); plt.axhline(0, color='k');"
   ]
  },
  {
   "cell_type": "code",
   "execution_count": 16,
   "metadata": {
    "collapsed": false
   },
   "outputs": [
    {
     "data": {
      "text/plain": [
       "<matplotlib.lines.Line2D at 0x10caf6400>"
      ]
     },
     "execution_count": 16,
     "metadata": {},
     "output_type": "execute_result"
    },
    {
     "data": {
      "image/png": "[encoded data removed]",
      "text/plain": [
       "<matplotlib.figure.Figure at 0x10caf6748>"
      ]
     },
     "metadata": {},
     "output_type": "display_data"
    }
   ],
   "source": [
    "companies.ix[0].plot(kind=\"bar\", sort_columns=True); plt.axhline(0, color='k')"
   ]
  },
  {
   "cell_type": "code",
   "execution_count": 17,
   "metadata": {
    "collapsed": false
   },
   "outputs": [
    {
     "data": {
      "text/plain": [
       "<matplotlib.lines.Line2D at 0x10d36ae80>"
      ]
     },
     "execution_count": 17,
     "metadata": {},
     "output_type": "execute_result"
    },
    {
     "data": {
      "image/png": "[encoded data removed]",
      "text/plain": [
       "<matplotlib.figure.Figure at 0x10d19e2e8>"
      ]
     },
     "metadata": {},
     "output_type": "display_data"
    }
   ],
   "source": [
    "company_responses.ix[0].plot(kind=\"bar\", sort_columns=True); plt.axhline(0, color='k')"
   ]
  },
  {
   "cell_type": "code",
   "execution_count": 18,
   "metadata": {
    "collapsed": false
   },
   "outputs": [
    {
     "data": {
      "text/html": [
       "<div>\n",
       "<table border=\"1\" class=\"dataframe\">\n",
       "  <thead>\n",
       "    <tr style=\"text-align: right;\">\n",
       "      <th></th>\n",
       "      <th>Complaint ID</th>\n",
       "      <th>Product</th>\n",
       "      <th>Company</th>\n",
       "      <th>Company response</th>\n",
       "      <th>weekdays</th>\n",
       "    </tr>\n",
       "    <tr>\n",
       "      <th>Date_received</th>\n",
       "      <th></th>\n",
       "      <th></th>\n",
       "      <th></th>\n",
       "      <th></th>\n",
       "      <th></th>\n",
       "    </tr>\n",
       "  </thead>\n",
       "  <tbody>\n",
       "    <tr>\n",
       "      <th>2014-12-29</th>\n",
       "      <td>1172437</td>\n",
       "      <td>Credit reporting</td>\n",
       "      <td>Experian</td>\n",
       "      <td>In progress</td>\n",
       "      <td>0</td>\n",
       "    </tr>\n",
       "    <tr>\n",
       "      <th>2014-12-29</th>\n",
       "      <td>1177539</td>\n",
       "      <td>Consumer loan</td>\n",
       "      <td>Capital One</td>\n",
       "      <td>Closed with explanation</td>\n",
       "      <td>0</td>\n",
       "    </tr>\n",
       "    <tr>\n",
       "      <th>2014-12-29</th>\n",
       "      <td>1176340</td>\n",
       "      <td>Consumer loan</td>\n",
       "      <td>American Honda Finance Corporation</td>\n",
       "      <td>Closed with explanation</td>\n",
       "      <td>0</td>\n",
       "    </tr>\n",
       "    <tr>\n",
       "      <th>2014-12-29</th>\n",
       "      <td>1176318</td>\n",
       "      <td>Bank account or service</td>\n",
       "      <td>The Huntington National Bank</td>\n",
       "      <td>In progress</td>\n",
       "      <td>0</td>\n",
       "    </tr>\n",
       "    <tr>\n",
       "      <th>2014-12-29</th>\n",
       "      <td>1176314</td>\n",
       "      <td>Mortgage</td>\n",
       "      <td>Nationstar Mortgage</td>\n",
       "      <td>Closed with explanation</td>\n",
       "      <td>0</td>\n",
       "    </tr>\n",
       "  </tbody>\n",
       "</table>\n",
       "</div>"
      ],
      "text/plain": [
       "               Complaint ID                  Product  \\\n",
       "Date_received                                          \n",
       "2014-12-29          1172437         Credit reporting   \n",
       "2014-12-29          1177539            Consumer loan   \n",
       "2014-12-29          1176340            Consumer loan   \n",
       "2014-12-29          1176318  Bank account or service   \n",
       "2014-12-29          1176314                 Mortgage   \n",
       "\n",
       "                                          Company         Company response  \\\n",
       "Date_received                                                                \n",
       "2014-12-29                               Experian              In progress   \n",
       "2014-12-29                            Capital One  Closed with explanation   \n",
       "2014-12-29     American Honda Finance Corporation  Closed with explanation   \n",
       "2014-12-29           The Huntington National Bank              In progress   \n",
       "2014-12-29                    Nationstar Mortgage  Closed with explanation   \n",
       "\n",
       "               weekdays  \n",
       "Date_received            \n",
       "2014-12-29            0  \n",
       "2014-12-29            0  \n",
       "2014-12-29            0  \n",
       "2014-12-29            0  \n",
       "2014-12-29            0  "
      ]
     },
     "execution_count": 18,
     "metadata": {},
     "output_type": "execute_result"
    }
   ],
   "source": [
    "mon = cnsmr_cmplnts[cnsmr_cmplnts.weekdays == 0].head()\n",
    "mon"
   ]
  },
  {
   "cell_type": "code",
   "execution_count": 24,
   "metadata": {
    "collapsed": false
   },
   "outputs": [
    {
     "ename": "AttributeError",
     "evalue": "'DataFrame' object has no attribute 'Date_received'",
     "output_type": "error",
     "traceback": [
      "\u001b[0;31m---------------------------------------------------------------------------\u001b[0m",
      "\u001b[0;31mAttributeError\u001b[0m                            Traceback (most recent call last)",
      "\u001b[0;32m<ipython-input-24-0d559223d3fd>\u001b[0m in \u001b[0;36m<module>\u001b[0;34m()\u001b[0m\n\u001b[0;32m----> 1\u001b[0;31m \u001b[0mmon\u001b[0m\u001b[0;34m.\u001b[0m\u001b[0mDate_received\u001b[0m\u001b[0;34m.\u001b[0m\u001b[0munique\u001b[0m\u001b[0;34m(\u001b[0m\u001b[0;34m)\u001b[0m\u001b[0;34m\u001b[0m\u001b[0m\n\u001b[0m",
      "\u001b[0;32m/Users/MatthewBarnette/iron_yard_hw/consumer-complaints/.direnv/python-3.5.0/lib/python3.5/site-packages/pandas/core/generic.py\u001b[0m in \u001b[0;36m__getattr__\u001b[0;34m(self, name)\u001b[0m\n\u001b[1;32m   2148\u001b[0m                 \u001b[0;32mreturn\u001b[0m \u001b[0mself\u001b[0m\u001b[0;34m[\u001b[0m\u001b[0mname\u001b[0m\u001b[0;34m]\u001b[0m\u001b[0;34m\u001b[0m\u001b[0m\n\u001b[1;32m   2149\u001b[0m             raise AttributeError(\"'%s' object has no attribute '%s'\" %\n\u001b[0;32m-> 2150\u001b[0;31m                                  (type(self).__name__, name))\n\u001b[0m\u001b[1;32m   2151\u001b[0m \u001b[0;34m\u001b[0m\u001b[0m\n\u001b[1;32m   2152\u001b[0m     \u001b[0;32mdef\u001b[0m \u001b[0m__setattr__\u001b[0m\u001b[0;34m(\u001b[0m\u001b[0mself\u001b[0m\u001b[0;34m,\u001b[0m \u001b[0mname\u001b[0m\u001b[0;34m,\u001b[0m \u001b[0mvalue\u001b[0m\u001b[0;34m)\u001b[0m\u001b[0;34m:\u001b[0m\u001b[0;34m\u001b[0m\u001b[0m\n",
      "\u001b[0;31mAttributeError\u001b[0m: 'DataFrame' object has no attribute 'Date_received'"
     ]
    }
   ],
   "source": [
    "mon.Date_received.unique()"
   ]
  },
  {
   "cell_type": "code",
   "execution_count": null,
   "metadata": {
    "collapsed": false
   },
   "outputs": [],
   "source": [
    "tue = cnsmr_cmplnts[cnsmr_cmplnts.weekdays == 1].head()\n",
    "tue"
   ]
  },
  {
   "cell_type": "code",
   "execution_count": null,
   "metadata": {
    "collapsed": true
   },
   "outputs": [],
   "source": []
  },
  {
   "cell_type": "code",
   "execution_count": null,
   "metadata": {
    "collapsed": false
   },
   "outputs": [],
   "source": [
    "wed = cnsmr_cmplnts[cnsmr_cmplnts.weekdays == 2].head()\n",
    "wed"
   ]
  },
  {
   "cell_type": "code",
   "execution_count": null,
   "metadata": {
    "collapsed": true
   },
   "outputs": [],
   "source": []
  },
  {
   "cell_type": "code",
   "execution_count": null,
   "metadata": {
    "collapsed": false
   },
   "outputs": [],
   "source": [
    "thur = cnsmr_cmplnts[cnsmr_cmplnts.weekdays == 3].head()\n",
    "thur"
   ]
  },
  {
   "cell_type": "code",
   "execution_count": null,
   "metadata": {
    "collapsed": true
   },
   "outputs": [],
   "source": []
  },
  {
   "cell_type": "code",
   "execution_count": null,
   "metadata": {
    "collapsed": false
   },
   "outputs": [],
   "source": [
    "fri = cnsmr_cmplnts[cnsmr_cmplnts.weekdays == 4].head()\n",
    "fri"
   ]
  },
  {
   "cell_type": "code",
   "execution_count": null,
   "metadata": {
    "collapsed": true
   },
   "outputs": [],
   "source": []
  },
  {
   "cell_type": "code",
   "execution_count": null,
   "metadata": {
    "collapsed": false
   },
   "outputs": [],
   "source": [
    "sat = cnsmr_cmplnts[cnsmr_cmplnts.weekdays == 5].head()\n",
    "sat"
   ]
  },
  {
   "cell_type": "code",
   "execution_count": null,
   "metadata": {
    "collapsed": true
   },
   "outputs": [],
   "source": []
  },
  {
   "cell_type": "code",
   "execution_count": null,
   "metadata": {
    "collapsed": false
   },
   "outputs": [],
   "source": [
    "sun = cnsmr_cmplnts[cnsmr_cmplnts.weekdays == 6].head()\n",
    "sun"
   ]
  },
  {
   "cell_type": "code",
   "execution_count": null,
   "metadata": {
    "collapsed": true
   },
   "outputs": [],
   "source": []
  }
 ],
 "metadata": {
  "kernelspec": {
   "display_name": "Python 3",
   "language": "python",
   "name": "python3"
  },
  "language_info": {
   "codemirror_mode": {
    "name": "ipython",
    "version": 3
   },
   "file_extension": ".py",
   "mimetype": "text/x-python",
   "name": "python",
   "nbconvert_exporter": "python",
   "pygments_lexer": "ipython3",
   "version": "3.5.0"
  }
 },
 "nbformat": 4,
 "nbformat_minor": 0
}
